{
 "cells": [
  {
   "cell_type": "markdown",
   "metadata": {},
   "source": [
    "### HW3 | Use LSTM & CNN model to classify customized candlestick pattern (at least 3 classes)\n",
    "- 所有檔案: process_data.py、candlestick_train_lstm.py、candlestick_train_cnn.py\n",
    "<br />\n",
    "<br />\n",
    "- 內容說明: 運用作業一標示完兩個選定訊號(Hammer, HangingMan)的資料結果，透過 GASF 方法將原先資料轉換過後，代入作業二所訓練好的 LSTM 與CNN 模型，檢測在不同資料特徵的輸入下，兩模型對於不同candlestick pattern與signal的分類結果。\n",
    "<br />\n",
    "<br />\n",
    "- 結果摘要: iterations = 10, testing accuracy results with 2 models & 2 features<br />\n",
    " (1) CURL 較 OHLC 對於捕捉資料特徵有更佳的結果<br />\n",
    " (2) CNN 模型對比於 LSTM 模型又有更高的模型精確度<br />\n",
    " (3) 資料特徵採用 CURL 並搭配 CNN 模型，檢測結果為四種情境下最佳模型精確度，分類準確度高達 92.12%<br />\n",
    " \n",
    "| Data Features | LSTM model | CNN model |\n",
    "|:-------------:|:----------:|:---------:|\n",
    "|      OHLC     |   0.8281   |   0.8725  |\n",
    "|      CURL     |   0.9156   |   0.9212  |\n",
    "\n"
   ]
  },
  {
   "cell_type": "markdown",
   "metadata": {},
   "source": [
    "### 0. 處理資料\n",
    "- process_data.py\n",
    "1. 將HW1標示完兩個指定訊號(Hammer, HangingMan)的資料結果，透過Gramian Angular Summation Field(GASF)方法由時間序列資料轉換為二維圖像\n",
    "2. x_train: 參考Reference 2的論文內容，分別擷取candlestick的兩組特徵(OHLC, CURL)\n",
    "   * OHLC: open, high, low, close price\n",
    "   * CURL: close, up_shadow_width, real_body, low_shadow_width\n",
    "3. y_train: 三種不同判別訊號，分別為None、Hammer、HangingMan\n",
    "4. 訓練集(train)、驗證集(val)與測試集(test)資料數量設定：\n",
    "\n",
    "| Class |   pattern  | train | validate | test |\n",
    "|:-----:|:----------:|:-----:|:--------:|:----:|\n",
    "|   0   |    None    |  4000 |    800   |  800 |\n",
    "|   1   |   Hammer   |  2000 |    400   |  400 |\n",
    "|   2   | HangingMan |  2000 |    400   |  400 |\n",
    "|       |    Total   |  8000 |   1600   | 1600 |"
   ]
  },
  {
   "cell_type": "code",
   "execution_count": 229,
   "metadata": {},
   "outputs": [],
   "source": [
    "import pandas as pd\n",
    "import numpy as np\n",
    "\n",
    "# GASF\n",
    "def ts2gasf(ts, max_v, min_v):\n",
    "    '''\n",
    "    Args:\n",
    "        ts (numpy): (N, )\n",
    "        max_v (int): max value for normalization\n",
    "        min_v (int): min value for normalization\n",
    "    Returns:\n",
    "        gaf_m (numpy): (N, N)\n",
    "    '''\n",
    "    # Normalization : 0 ~ 1\n",
    "    if max_v == min_v:\n",
    "        gaf_m = np.zeros((len(ts), len(ts)))\n",
    "    else:\n",
    "        ts_nor = np.array((ts-min_v) / (max_v-min_v))\n",
    "        # Arccos\n",
    "        ts_nor_arc = np.arccos(ts_nor)\n",
    "        # GAF\n",
    "        gaf_m = np.zeros((len(ts_nor), len(ts_nor)))\n",
    "        for r in range(len(ts_nor)):\n",
    "            for c in range(len(ts_nor)):\n",
    "                gaf_m[r, c] = np.cos(ts_nor_arc[r] + ts_nor_arc[c])\n",
    "    return gaf_m\n",
    "\n",
    "\n",
    "def get_gasf(arr):\n",
    "    '''Convert time-series to gasf    \n",
    "    Args:\n",
    "        arr (numpy): (N, ts_n, 4)\n",
    "    Returns:\n",
    "        gasf (numpy): (N, ts_n, ts_n, 4)\n",
    "    Todos:\n",
    "        add normalization together version\n",
    "    '''\n",
    "    arr = arr.copy()\n",
    "    gasf = np.zeros((arr.shape[0], arr.shape[1], arr.shape[1], arr.shape[2]))\n",
    "    for i in range(arr.shape[0]):\n",
    "        for c in range(arr.shape[2]):\n",
    "            each_channel = arr[i, :, c]\n",
    "            c_max = np.amax(each_channel)\n",
    "            c_min = np.amin(each_channel)\n",
    "            each_gasf = ts2gasf(each_channel, max_v=c_max, min_v=c_min)\n",
    "            gasf[i, :, :, c] = each_gasf\n",
    "    return gasf\n",
    "\n",
    "\n",
    "def get_arr_ohlc(data, signal, d=None):\n",
    "    if signal != 'n' and signal != 'None':\n",
    "        df_es = data.loc[data[signal]==1]\n",
    "    elif signal == 'None':\n",
    "        df_es = data.loc[data[signal]==1][:10000]\n",
    "    else:\n",
    "        df_es = d\n",
    "    arr = np.zeros((df_es.shape[0], 10, 4))\n",
    "    for index, N in zip(df_es.index, range(df_es.shape[0])):\n",
    "        df = data.loc[data.index <= index][-10::]\n",
    "        arr[N, :, 0] = df['open']\n",
    "        arr[N, :, 1] = df['high']\n",
    "        arr[N, :, 2] = df['low']\n",
    "        arr[N, :, 3] = df['close']\n",
    "    return arr\n",
    "\n",
    "def get_arr_curl(data, signal, d=None):\n",
    "    if signal != 'n' and signal != 'None':\n",
    "        df_es = data.loc[data[signal]==1]\n",
    "    elif signal == 'None':\n",
    "        df_es = data.loc[data[signal]==1][:10000]\n",
    "    else:\n",
    "        df_es = d\n",
    "    arr = np.zeros((df_es.shape[0], 10, 4))\n",
    "    for index, N in zip(df_es.index, range(df_es.shape[0])):\n",
    "        df = data.loc[data.index <= index][-10::]\n",
    "        arr[N, :, 0] = df['close']\n",
    "        arr[N, :, 1] = df['ushadow_width']\n",
    "        arr[N, :, 2] = df['realbody']\n",
    "        arr[N, :, 3] = df['lshadow_width']\n",
    "    return arr\n",
    "    \n",
    "    \n",
    "def process(file):\n",
    "    data = pd.read_csv(file)\n",
    "    data['date'] = pd.to_datetime(data['date'], format=\"%Y-%m-%d %H:%M:%S.%f\")\n",
    "    data.set_index('date', inplace=True)\n",
    "    return data\n",
    "\n",
    "\n",
    "def detect(data, datatype, signal, d=None):\n",
    "    if datatype == 'curl':\n",
    "        arr = get_arr_curl(data, signal, d)\n",
    "    else:\n",
    "        arr = get_arr_ohlc(data, signal, d)\n",
    "    gasf = get_gasf(arr)\n",
    "    return gasf\n",
    "\n",
    "\n",
    "def partial_data(arr0, arr1, arr2):\n",
    "    N_train1, N_train2 = 4000, 2000\n",
    "    N_val1, N_val2 = 800, 400\n",
    "    N_test1, N_test2 = 800, 400\n",
    "\n",
    "    train_arr = np.concatenate((arr0[:N_train1], arr1[:N_train2], arr2[:N_train2]))\n",
    "    val_arr = np.concatenate((arr0[N_train1: N_train1+N_val1], \n",
    "                              arr1[N_train2: N_train2+N_val2], \n",
    "                              arr2[N_train2: N_train2+N_val2]))\n",
    "\n",
    "    test_arr = np.concatenate((arr0[N_train1+N_val1: N_train1+N_val1+N_test1], \n",
    "                               arr1[N_train2+N_val2: N_train2+N_val2+N_test2], \n",
    "                               arr2[N_train2+N_val2: N_train2+N_val2+N_test2]))\n",
    "    \n",
    "    return train_arr, val_arr, test_arr"
   ]
  },
  {
   "cell_type": "code",
   "execution_count": 230,
   "metadata": {},
   "outputs": [],
   "source": [
    "def data_csv2dict(file, datatype):\n",
    "    data = process(file)\n",
    "    \n",
    "    signal0, signal1, signal2 = 'None', 'Hammer', 'HangingMan'\n",
    "    gasf_sig0 = detect(data, datatype, signal0, d=None)\n",
    "    gasf_sig1 = detect(data, datatype, signal1, d=None)\n",
    "    gasf_sig2 = detect(data, datatype, signal2, d=None)\n",
    "\n",
    "    N_none = gasf_sig0.shape[0]\n",
    "    N_hammer = gasf_sig1.shape[0]\n",
    "    N_hangingman = gasf_sig2.shape[0]\n",
    "\n",
    "    # Create the label array\n",
    "    label0 = np.array([[0]]*N_none, dtype = float)\n",
    "    label1 = np.array([[1]]*N_hammer, dtype = float)\n",
    "    label2 = np.array([[2]]*N_hangingman, dtype = float)\n",
    "\n",
    "    # Create the label_arr array\n",
    "    label_arr0 = np.array([[1, 0, 0]]*N_none, dtype = float)\n",
    "    label_arr1 = np.array([[0, 1, 0]]*N_hammer, dtype = float)\n",
    "    label_arr2 = np.array([[0, 0, 1]]*N_hangingman, dtype = float)\n",
    "    \n",
    "    train_label, val_label, test_label = partial_data(label0, label1, label2)\n",
    "    train_label_arr, val_label_arr, test_label_arr = partial_data(label_arr0, label_arr1, label_arr2)\n",
    "    train_gasf, val_gasf, test_gasf = partial_data(gasf_sig0, gasf_sig1, gasf_sig2)\n",
    "\n",
    "    ALL_arr_name = ['train_gasf', 'val_gasf', 'test_gasf',\n",
    "                    'train_label', 'val_label', 'test_label',\n",
    "                    'train_label_arr', 'val_label_arr', 'test_label_arr']\n",
    "\n",
    "    ALL_arr = [train_gasf, val_gasf, test_gasf,\n",
    "               train_label, val_label, test_label,\n",
    "               train_label_arr, val_label_arr, test_label_arr]\n",
    "\n",
    "    data_dict = {}\n",
    "    for i in range(len(ALL_arr)):\n",
    "        data_dict[ALL_arr_name[i]] = ALL_arr[i]\n",
    "        \n",
    "    return data_dict"
   ]
  },
  {
   "cell_type": "code",
   "execution_count": 232,
   "metadata": {},
   "outputs": [],
   "source": [
    "file = 'C:/Users/user.LAPTOP-EQJHNTF3/Desktop/1091/Financial_Vision/HW3/data/eurusd_2010_2012_2rulebase.csv'\n",
    "data_dict1 = data_csv2dict(file, datatype = 'ohlc')\n",
    "data_dict2 = data_csv2dict(file, datatype = 'curl')"
   ]
  },
  {
   "cell_type": "markdown",
   "metadata": {},
   "source": [
    "### Model Training"
   ]
  },
  {
   "cell_type": "markdown",
   "metadata": {},
   "source": [
    "### 1. LSTM\n",
    "- candlestick_train_lstm.py"
   ]
  },
  {
   "cell_type": "code",
   "execution_count": 310,
   "metadata": {},
   "outputs": [],
   "source": [
    "from sklearn.metrics import confusion_matrix\n",
    "import pickle\n",
    "import keras\n",
    "from keras.layers import LSTM\n",
    "from keras.layers import Dense, Activation, Conv2D, MaxPool2D, Dropout, Flatten\n",
    "from keras.datasets import mnist\n",
    "from keras.models import Sequential\n",
    "from keras.optimizers import Adam\n",
    "import matplotlib.pyplot as plt\n",
    "from keras.preprocessing.image import ImageDataGenerator\n",
    "import itertools\n",
    "\n",
    "def plot_confusion_matrix(cm, classes, normalize=False, title=\"Confusion Matrix\", cmap=plt.cm.Blues):\n",
    "    plt.figure()\n",
    "    plt.imshow(cm, interpolation='nearest', cmap=cmap)\n",
    "    plt.title(title)\n",
    "    plt.colorbar()\n",
    "    tick_marks = np.arange(len(classes))\n",
    "    plt.xticks(tick_marks, classes, rotation=45)\n",
    "    plt.yticks(tick_marks, classes)\n",
    "    if normalize:\n",
    "        cm = cm.astype('float') / cm.sum(axis=1)[:, np.newaxis]\n",
    "    thresh = cm.max() / 2\n",
    "    for i, j in itertools.product(range(cm.shape[0]), range(cm.shape[1])):\n",
    "        plt.text(j, i, cm[i, j], horizontalalignment=\"center\", color=\"white\" if cm[i, j] > thresh else \"black\")\n",
    "    \n",
    "    plt.tight_layout()\n",
    "    plt.ylabel('True label')\n",
    "    plt.xlabel('Predicted label')\n",
    "\n",
    "def lstm_preprocess(x_train, x_test, y_train, y_test, n_step, n_input, n_classes):\n",
    "    x_train = x_train.reshape(-1, n_step, n_input)\n",
    "    x_test = x_test.reshape(-1, n_step, n_input)\n",
    "    x_train = x_train.astype('float32')\n",
    "    x_test = x_test.astype('float32')\n",
    "    x_train /= 255\n",
    "    x_test /= 255\n",
    "    y_train = keras.utils.to_categorical(y_train, n_classes)\n",
    "    y_test = keras.utils.to_categorical(y_test, n_classes)\n",
    "    return (x_train, x_test, y_train, y_test)\n",
    "\n",
    "def lstm_model(x_train, n_input, n_step, n_hidden, n_classes):\n",
    "    model = Sequential()\n",
    "    model.add(LSTM(128, input_shape=(x_train.shape[1:]), activation='relu', return_sequences=True))\n",
    "    model.add(Dropout(0.2))\n",
    "    model.add(LSTM(128, activation='relu'))\n",
    "    model.add(Dropout(0.1))\n",
    "    model.add(Dense(32, activation='relu'))\n",
    "    model.add(Dropout(0.2))\n",
    "    model.add(Dense(3, activation='softmax'))\n",
    "    return model\n",
    "\n",
    "def train_lstm(model, x_train, y_train, x_test, y_test, \n",
    "        learning_rate, training_iters, batch_size):\n",
    "    adam = Adam(lr=learning_rate)\n",
    "    model.summary()\n",
    "    model.compile(optimizer=adam,\n",
    "        loss='categorical_crossentropy', metrics=['accuracy'])\n",
    "    model.fit(x_train, y_train,\n",
    "        batch_size=batch_size, epochs=training_iters,\n",
    "        verbose=1, validation_data=(x_test, y_test))\n",
    "\n",
    "def mnist_lstm_main(data):\n",
    "    # training parameters\n",
    "    learning_rate = 0.001\n",
    "    training_iters = 10\n",
    "    batch_size = 128\n",
    "\n",
    "    # model parameters\n",
    "    n_input = 40\n",
    "    n_step = 10\n",
    "    n_hidden = 256\n",
    "    n_classes = 3\n",
    "\n",
    "    x_train, y_train, x_test, y_test = data['train_gasf'], data['train_label'][:, 0], data['test_gasf'], data['test_label'][:, 0]\n",
    "    x_train, x_test, y_train, y_test = lstm_preprocess(x_train, x_test, y_train, y_test, n_step, n_input, n_classes)\n",
    "\n",
    "    model = lstm_model(x_train, n_input, n_step, n_hidden, n_classes)\n",
    "    train_lstm(model, x_train, y_train, x_test, y_test, learning_rate, training_iters, batch_size)\n",
    "    scores = model.evaluate(x_test, y_test, verbose=0)\n",
    "    print('LSTM test accuracy:', scores[1])\n",
    "\n",
    "    # Plot Confusion Matrix\n",
    "    # get train & test predictions\n",
    "    train_pred = model.predict_classes(x_train)\n",
    "    test_pred = model.predict_classes(x_test)\n",
    "\n",
    "    # confusion matrix\n",
    "    train_result_cm = confusion_matrix(data['train_label'][:, 0], train_pred, labels=range(3))\n",
    "    test_result_cm = confusion_matrix(data['test_label'][:, 0], test_pred, labels=range(3))\n",
    "\n",
    "    plot_confusion_matrix(train_result_cm, range(0, 3))\n",
    "    plot_confusion_matrix(test_result_cm, range(0, 3))\n",
    "\n"
   ]
  },
  {
   "cell_type": "markdown",
   "metadata": {},
   "source": [
    "#### 1-1 Result of LSTM model (OHLC data)"
   ]
  },
  {
   "cell_type": "code",
   "execution_count": 311,
   "metadata": {},
   "outputs": [
    {
     "name": "stdout",
     "output_type": "stream",
     "text": [
      "Model: \"sequential_47\"\n",
      "_________________________________________________________________\n",
      "Layer (type)                 Output Shape              Param #   \n",
      "=================================================================\n",
      "lstm_63 (LSTM)               (None, 10, 128)           86528     \n",
      "_________________________________________________________________\n",
      "dropout_111 (Dropout)        (None, 10, 128)           0         \n",
      "_________________________________________________________________\n",
      "lstm_64 (LSTM)               (None, 128)               131584    \n",
      "_________________________________________________________________\n",
      "dropout_112 (Dropout)        (None, 128)               0         \n",
      "_________________________________________________________________\n",
      "dense_101 (Dense)            (None, 32)                4128      \n",
      "_________________________________________________________________\n",
      "dropout_113 (Dropout)        (None, 32)                0         \n",
      "_________________________________________________________________\n",
      "dense_102 (Dense)            (None, 3)                 99        \n",
      "=================================================================\n",
      "Total params: 222,339\n",
      "Trainable params: 222,339\n",
      "Non-trainable params: 0\n",
      "_________________________________________________________________\n",
      "Train on 8000 samples, validate on 1600 samples\n",
      "Epoch 1/10\n",
      "8000/8000 [==============================] - 3s 334us/step - loss: 1.0269 - accuracy: 0.4975 - val_loss: 0.8196 - val_accuracy: 0.5038\n",
      "Epoch 2/10\n",
      "8000/8000 [==============================] - 2s 291us/step - loss: 0.7192 - accuracy: 0.6124 - val_loss: 0.6043 - val_accuracy: 0.6888\n",
      "Epoch 3/10\n",
      "8000/8000 [==============================] - 2s 281us/step - loss: 0.6100 - accuracy: 0.6924 - val_loss: 0.6016 - val_accuracy: 0.6881\n",
      "Epoch 4/10\n",
      "8000/8000 [==============================] - 2s 265us/step - loss: 0.5619 - accuracy: 0.7228 - val_loss: 0.4762 - val_accuracy: 0.7831\n",
      "Epoch 5/10\n",
      "8000/8000 [==============================] - 2s 261us/step - loss: 0.5320 - accuracy: 0.7550 - val_loss: 0.5650 - val_accuracy: 0.7094\n",
      "Epoch 6/10\n",
      "8000/8000 [==============================] - 2s 262us/step - loss: 0.5285 - accuracy: 0.7536 - val_loss: 0.4675 - val_accuracy: 0.7769\n",
      "Epoch 7/10\n",
      "8000/8000 [==============================] - 2s 262us/step - loss: 0.5226 - accuracy: 0.7628 - val_loss: 0.7085 - val_accuracy: 0.6463\n",
      "Epoch 8/10\n",
      "8000/8000 [==============================] - 2s 263us/step - loss: 0.5185 - accuracy: 0.7605 - val_loss: 0.4549 - val_accuracy: 0.8006\n",
      "Epoch 9/10\n",
      "8000/8000 [==============================] - 2s 265us/step - loss: 0.4767 - accuracy: 0.7862 - val_loss: 0.3965 - val_accuracy: 0.8225\n",
      "Epoch 10/10\n",
      "8000/8000 [==============================] - 2s 266us/step - loss: 0.4666 - accuracy: 0.7928 - val_loss: 0.4118 - val_accuracy: 0.8281\n",
      "LSTM test accuracy: 0.828125\n"
     ]
    },
    {
     "data": {
      "image/png": "[encoded data removed]",
      "text/plain": [
       "<Figure size 432x288 with 2 Axes>"
      ]
     },
     "metadata": {
      "needs_background": "light"
     },
     "output_type": "display_data"
    },
    {
     "data": {
      "image/png": "[encoded data removed]",
      "text/plain": [
       "<Figure size 432x288 with 2 Axes>"
      ]
     },
     "metadata": {
      "needs_background": "light"
     },
     "output_type": "display_data"
    }
   ],
   "source": [
    "mnist_lstm_main(data_dict1)  # data input: OHLC"
   ]
  },
  {
   "cell_type": "markdown",
   "metadata": {},
   "source": [
    "#### 1-2 Result of LSTM model (CURL data)"
   ]
  },
  {
   "cell_type": "code",
   "execution_count": 312,
   "metadata": {},
   "outputs": [
    {
     "name": "stdout",
     "output_type": "stream",
     "text": [
      "Model: \"sequential_48\"\n",
      "_________________________________________________________________\n",
      "Layer (type)                 Output Shape              Param #   \n",
      "=================================================================\n",
      "lstm_65 (LSTM)               (None, 10, 128)           86528     \n",
      "_________________________________________________________________\n",
      "dropout_114 (Dropout)        (None, 10, 128)           0         \n",
      "_________________________________________________________________\n",
      "lstm_66 (LSTM)               (None, 128)               131584    \n",
      "_________________________________________________________________\n",
      "dropout_115 (Dropout)        (None, 128)               0         \n",
      "_________________________________________________________________\n",
      "dense_103 (Dense)            (None, 32)                4128      \n",
      "_________________________________________________________________\n",
      "dropout_116 (Dropout)        (None, 32)                0         \n",
      "_________________________________________________________________\n",
      "dense_104 (Dense)            (None, 3)                 99        \n",
      "=================================================================\n",
      "Total params: 222,339\n",
      "Trainable params: 222,339\n",
      "Non-trainable params: 0\n",
      "_________________________________________________________________\n",
      "Train on 8000 samples, validate on 1600 samples\n",
      "Epoch 1/10\n",
      "8000/8000 [==============================] - 3s 366us/step - loss: 1.0487 - accuracy: 0.4976 - val_loss: 1.0388 - val_accuracy: 0.5000\n",
      "Epoch 2/10\n",
      "8000/8000 [==============================] - 2s 269us/step - loss: 0.9098 - accuracy: 0.5265 - val_loss: 0.6410 - val_accuracy: 0.6681\n",
      "Epoch 3/10\n",
      "8000/8000 [==============================] - 2s 294us/step - loss: 0.5687 - accuracy: 0.7305 - val_loss: 0.4251 - val_accuracy: 0.8238\n",
      "Epoch 4/10\n",
      "8000/8000 [==============================] - 2s 286us/step - loss: 0.4917 - accuracy: 0.7881 - val_loss: 0.3700 - val_accuracy: 0.8662\n",
      "Epoch 5/10\n",
      "8000/8000 [==============================] - 2s 286us/step - loss: 0.3779 - accuracy: 0.8496 - val_loss: 0.2864 - val_accuracy: 0.8844\n",
      "Epoch 6/10\n",
      "8000/8000 [==============================] - 2s 284us/step - loss: 0.3294 - accuracy: 0.8706 - val_loss: 0.2361 - val_accuracy: 0.9075\n",
      "Epoch 7/10\n",
      "8000/8000 [==============================] - 2s 267us/step - loss: 0.3030 - accuracy: 0.8779 - val_loss: 0.2474 - val_accuracy: 0.8994\n",
      "Epoch 8/10\n",
      "8000/8000 [==============================] - 2s 265us/step - loss: 0.3077 - accuracy: 0.8779 - val_loss: 0.2400 - val_accuracy: 0.8988\n",
      "Epoch 9/10\n",
      "8000/8000 [==============================] - 2s 266us/step - loss: 0.2807 - accuracy: 0.8884 - val_loss: 0.2263 - val_accuracy: 0.9112\n",
      "Epoch 10/10\n",
      "8000/8000 [==============================] - 2s 274us/step - loss: 0.2958 - accuracy: 0.8846 - val_loss: 0.2160 - val_accuracy: 0.9156\n",
      "LSTM test accuracy: 0.9156249761581421\n"
     ]
    },
    {
     "data": {
      "image/png": "[encoded data removed]",
      "text/plain": [
       "<Figure size 432x288 with 2 Axes>"
      ]
     },
     "metadata": {
      "needs_background": "light"
     },
     "output_type": "display_data"
    },
    {
     "data": {
      "image/png": "[encoded data removed]",
      "text/plain": [
       "<Figure size 432x288 with 2 Axes>"
      ]
     },
     "metadata": {
      "needs_background": "light"
     },
     "output_type": "display_data"
    }
   ],
   "source": [
    "mnist_lstm_main(data_dict2)  # data input: CURL"
   ]
  },
  {
   "cell_type": "markdown",
   "metadata": {},
   "source": [
    "### 2. CNN\n",
    "- candlestick_train_cnn.py\n",
    "- 原先CNN model在移除pooling layer後，模型準確度有明顯上升"
   ]
  },
  {
   "cell_type": "code",
   "execution_count": 323,
   "metadata": {},
   "outputs": [],
   "source": [
    "from sklearn.metrics import confusion_matrix\n",
    "import numpy as np\n",
    "\n",
    "from keras import backend as K\n",
    "from keras import optimizers\n",
    "from keras.models import Sequential\n",
    "from keras.layers import Dense, Flatten, Conv2D, Activation, MaxPool2D, MaxPooling2D\n",
    "\n",
    "def get_cnn_model(params):\n",
    "    model = Sequential()\n",
    "\n",
    "    model.add(Conv2D(32, (5,5), activation=\"relu\", padding=\"same\", data_format=\"channels_last\", input_shape=(10, 10, 4)))\n",
    "    model.add(Conv2D(32, (5,5), activation=\"relu\", padding=\"same\", data_format=\"channels_last\", input_shape=(10, 10, 4)))\n",
    "    #model.add(MaxPooling2D(pool_size=(2,2), data_format=\"channels_last\"))\n",
    "    model.add(Dropout(0.25))\n",
    "\n",
    "    model.add(Conv2D(48, (3,3), activation=\"relu\", padding=\"same\", data_format=\"channels_last\"))\n",
    "    model.add(Conv2D(48, (3,3), activation=\"relu\", padding=\"same\", data_format=\"channels_last\"))\n",
    "    #model.add(MaxPooling2D(pool_size=(2,2), data_format=\"channels_last\"))\n",
    "    model.add(Dropout(0.25))\n",
    "\n",
    "    model.add(Flatten())\n",
    "    model.add(Dense(256, activation=\"relu\"))\n",
    "    model.add(Dropout(0.5))\n",
    "    model.add(Dense(3, activation=\"softmax\"))\n",
    "    return model\n",
    "\n",
    "def train_model(params, data):\n",
    "    model = get_cnn_model(params)\n",
    "    model.compile(loss='categorical_crossentropy', optimizer=params['optimizer'], metrics=['accuracy'])\n",
    "    hist = model.fit(x=data['train_gasf'], y=data['train_label_arr'],\n",
    "                     batch_size=params['batch_size'], epochs=params['epochs'], verbose=2)\n",
    "    return (model, hist)\n"
   ]
  },
  {
   "cell_type": "code",
   "execution_count": 324,
   "metadata": {},
   "outputs": [],
   "source": [
    "def mnist_cnn_main(data):\n",
    "    # data\n",
    "    PARAMS = {}\n",
    "    PARAMS['classes'] = 3\n",
    "    PARAMS['lr'] = 0.01\n",
    "    PARAMS['epochs'] = 10\n",
    "    PARAMS['batch_size'] = 64\n",
    "    PARAMS['optimizer'] = optimizers.SGD(lr=PARAMS['lr'])\n",
    "\n",
    "    x_train, y_train, x_test, y_test = data['train_gasf'], data['train_label'][:, 0], data['test_gasf'], data['test_label'][:, 0]\n",
    "    # train cnn model\n",
    "    model, hist = train_model(PARAMS, data)\n",
    "    # train & test result\n",
    "    scores = model.evaluate(data['test_gasf'], data['test_label_arr'], verbose=0)\n",
    "    print('CNN test accuracy:', scores[1])\n",
    "\n",
    "    # Plot Confusion Matrix\n",
    "    # get train & test predictions\n",
    "    train_pred = model.predict_classes(x_train)\n",
    "    test_pred = model.predict_classes(x_test)\n",
    "\n",
    "    # confusion matrix\n",
    "    train_result_cm = confusion_matrix(data['train_label'][:, 0], train_pred, labels=range(3))\n",
    "    test_result_cm = confusion_matrix(data['test_label'][:, 0], test_pred, labels=range(3))\n",
    "\n",
    "    plot_confusion_matrix(train_result_cm, range(0, 3))\n",
    "    plot_confusion_matrix(test_result_cm, range(0, 3))"
   ]
  },
  {
   "cell_type": "markdown",
   "metadata": {},
   "source": [
    "#### 2-1 Result of CNN model (with OHLC data)"
   ]
  },
  {
   "cell_type": "code",
   "execution_count": 325,
   "metadata": {},
   "outputs": [
    {
     "name": "stdout",
     "output_type": "stream",
     "text": [
      "Epoch 1/10\n",
      " - 5s - loss: 0.8881 - accuracy: 0.5471\n",
      "Epoch 2/10\n",
      " - 5s - loss: 0.6877 - accuracy: 0.6526\n",
      "Epoch 3/10\n",
      " - 5s - loss: 0.5854 - accuracy: 0.7262\n",
      "Epoch 4/10\n",
      " - 6s - loss: 0.5177 - accuracy: 0.7684\n",
      "Epoch 5/10\n",
      " - 5s - loss: 0.4566 - accuracy: 0.7994\n",
      "Epoch 6/10\n",
      " - 5s - loss: 0.4175 - accuracy: 0.8241\n",
      "Epoch 7/10\n",
      " - 5s - loss: 0.3872 - accuracy: 0.8350\n",
      "Epoch 8/10\n",
      " - 5s - loss: 0.3638 - accuracy: 0.8471\n",
      "Epoch 9/10\n",
      " - 6s - loss: 0.3492 - accuracy: 0.8555\n",
      "Epoch 10/10\n",
      " - 5s - loss: 0.3415 - accuracy: 0.8555\n",
      "CNN test accuracy: 0.8725000023841858\n"
     ]
    },
    {
     "data": {
      "image/png": "[encoded data removed]",
      "text/plain": [
       "<Figure size 432x288 with 2 Axes>"
      ]
     },
     "metadata": {
      "needs_background": "light"
     },
     "output_type": "display_data"
    },
    {
     "data": {
      "image/png": "[encoded data removed]",
      "text/plain": [
       "<Figure size 432x288 with 2 Axes>"
      ]
     },
     "metadata": {
      "needs_background": "light"
     },
     "output_type": "display_data"
    }
   ],
   "source": [
    "mnist_cnn_main(data_dict1)  # OHLC"
   ]
  },
  {
   "cell_type": "markdown",
   "metadata": {},
   "source": [
    "#### 2-2 Result of CNN model (with CURL data)"
   ]
  },
  {
   "cell_type": "code",
   "execution_count": 327,
   "metadata": {},
   "outputs": [
    {
     "name": "stdout",
     "output_type": "stream",
     "text": [
      "Epoch 1/10\n",
      " - 6s - loss: 0.9374 - accuracy: 0.5451\n",
      "Epoch 2/10\n",
      " - 5s - loss: 0.5628 - accuracy: 0.7561\n",
      "Epoch 3/10\n",
      " - 6s - loss: 0.3944 - accuracy: 0.8341\n",
      "Epoch 4/10\n",
      " - 5s - loss: 0.3406 - accuracy: 0.8572\n",
      "Epoch 5/10\n",
      " - 6s - loss: 0.3089 - accuracy: 0.8710\n",
      "Epoch 6/10\n",
      " - 5s - loss: 0.2856 - accuracy: 0.8830\n",
      "Epoch 7/10\n",
      " - 6s - loss: 0.2732 - accuracy: 0.8869\n",
      "Epoch 8/10\n",
      " - 5s - loss: 0.2619 - accuracy: 0.8945\n",
      "Epoch 9/10\n",
      " - 5s - loss: 0.2524 - accuracy: 0.8957\n",
      "Epoch 10/10\n",
      " - 5s - loss: 0.2417 - accuracy: 0.9024\n",
      "CNN test accuracy: 0.9212499856948853\n"
     ]
    },
    {
     "data": {
      "image/png": "[encoded data removed]",
      "text/plain": [
       "<Figure size 432x288 with 2 Axes>"
      ]
     },
     "metadata": {
      "needs_background": "light"
     },
     "output_type": "display_data"
    },
    {
     "data": {
      "image/png": "[encoded data removed]",
      "text/plain": [
       "<Figure size 432x288 with 2 Axes>"
      ]
     },
     "metadata": {
      "needs_background": "light"
     },
     "output_type": "display_data"
    }
   ],
   "source": [
    "mnist_cnn_main(data_dict2)  # CURL"
   ]
  },
  {
   "cell_type": "markdown",
   "metadata": {},
   "source": [
    "### Reference"
   ]
  },
  {
   "cell_type": "markdown",
   "metadata": {},
   "source": [
    "- GASF代碼參考: [github/pecu/Series2GAF](https://github.com/pecu/Series2GAF)\n",
    "- [Encoding candlesticks as images for pattern classification using convolutional neural networks_Jun-Hao Chen & Yun-Cheng Tsai](https://jfin-swufe.springeropen.com/articles/10.1186/s40854-020-00187-0)"
   ]
  }
 ],
 "metadata": {
  "kernelspec": {
   "display_name": "Python 3",
   "language": "python",
   "name": "python3"
  },
  "language_info": {
   "codemirror_mode": {
    "name": "ipython",
    "version": 3
   },
   "file_extension": ".py",
   "mimetype": "text/x-python",
   "name": "python",
   "nbconvert_exporter": "python",
   "pygments_lexer": "ipython3",
   "version": "3.6.12"
  }
 },
 "nbformat": 4,
 "nbformat_minor": 4
}
